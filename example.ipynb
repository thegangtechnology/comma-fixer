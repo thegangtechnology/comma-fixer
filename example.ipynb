{
 "cells": [
  {
   "cell_type": "code",
   "execution_count": 1,
   "metadata": {},
   "outputs": [],
   "source": [
    "# RUN ONCE ONLY!\n",
    "import os\n",
    "os.chdir(\"./src\")"
   ]
  },
  {
   "cell_type": "code",
   "execution_count": 2,
   "metadata": {},
   "outputs": [],
   "source": [
    "from comma_fixer.column import Column\n",
    "from comma_fixer.fixer import Fixer\n",
    "from comma_fixer.schema import Schema\n",
    "import pandas as pd"
   ]
  },
  {
   "cell_type": "markdown",
   "metadata": {},
   "source": [
    "# Creating a Schema\n",
    "\n",
    "To create a Schema, we have to define all the columns with the column name and type, with additional arguments on whether the columns are nullable.\n",
    "\n",
    "Each column will have a function to determine whether a given token can be placed within that column. \n",
    "\n",
    "For `datetime` columns, it is critical that the input is in the ISO 8601 datetime format, i.e. `%Y-%m-%d` or `YYYY-MM-DD`, as this is the format accepted \n",
    "by the `pandas` library used for storing the dataset before exporting to CSV.\n",
    "\n",
    "For example, assume we have the entry string \"1,Bob,Johnson,twenty three,False,\", and are checking whether \"twenty three\" is suitable for the \"age\" column.\n",
    "Since the \"age\" column only accepts numeric values, it will return False. However, if the entry string were \"1,Bob,Johnson,23,False,\", the column's verifier \n",
    "would return True for \"23\".\n",
    "\n",
    "Other types of columns can be created as well, but a `pd.Series` object must be supplied to be able to create a `pd.DataFrame` when exporting to CSV. This requires \n",
    "importing `pandas`. All arguments must be given.\n",
    "\n"
   ]
  },
  {
   "cell_type": "code",
   "execution_count": 3,
   "metadata": {},
   "outputs": [],
   "source": [
    "schema_1 = Schema.new(columns=[\n",
    "    Column.numeric(name=\"id\"),\n",
    "    Column.string(name=\"firstname\", is_nullable=False, has_commas=False, has_spaces=False),\n",
    "    Column.string(name=\"lastname\", is_nullable=False, has_commas=False, has_spaces=False),\n",
    "    Column.numeric(name=\"age\"),\n",
    "    Column.new(name=\"cat_owner\", data_type=bool, series_type=pd.Series(dtype=bool), is_nullable=False, has_commas=False, has_spaces=False, format=None),\n",
    "    Column.string(name=\"cat_names\", is_nullable=True, has_commas=True, has_spaces=True)\n",
    "    ]\n",
    ")"
   ]
  },
  {
   "cell_type": "markdown",
   "metadata": {},
   "source": [
    "After creating a Schema, its contents can be displayed in a table format. However, newer columns can not be added into existing Schemas. "
   ]
  },
  {
   "cell_type": "code",
   "execution_count": 4,
   "metadata": {},
   "outputs": [
    {
     "data": {
      "text/html": [
       "<style type=\"text/css\">\n",
       "</style>\n",
       "<table id=\"T_69846\">\n",
       "  <thead>\n",
       "    <tr>\n",
       "      <th class=\"blank level0\" >&nbsp;</th>\n",
       "      <th id=\"T_69846_level0_col0\" class=\"col_heading level0 col0\" >name</th>\n",
       "      <th id=\"T_69846_level0_col1\" class=\"col_heading level0 col1\" >type</th>\n",
       "      <th id=\"T_69846_level0_col2\" class=\"col_heading level0 col2\" >nullable</th>\n",
       "      <th id=\"T_69846_level0_col3\" class=\"col_heading level0 col3\" >has commas</th>\n",
       "      <th id=\"T_69846_level0_col4\" class=\"col_heading level0 col4\" >has spaces</th>\n",
       "      <th id=\"T_69846_level0_col5\" class=\"col_heading level0 col5\" >format</th>\n",
       "    </tr>\n",
       "  </thead>\n",
       "  <tbody>\n",
       "    <tr>\n",
       "      <th id=\"T_69846_level0_row0\" class=\"row_heading level0 row0\" >0</th>\n",
       "      <td id=\"T_69846_row0_col0\" class=\"data row0 col0\" >id</td>\n",
       "      <td id=\"T_69846_row0_col1\" class=\"data row0 col1\" >int</td>\n",
       "      <td id=\"T_69846_row0_col2\" class=\"data row0 col2\" >False</td>\n",
       "      <td id=\"T_69846_row0_col3\" class=\"data row0 col3\" >False</td>\n",
       "      <td id=\"T_69846_row0_col4\" class=\"data row0 col4\" >False</td>\n",
       "      <td id=\"T_69846_row0_col5\" class=\"data row0 col5\" >None</td>\n",
       "    </tr>\n",
       "    <tr>\n",
       "      <th id=\"T_69846_level0_row1\" class=\"row_heading level0 row1\" >1</th>\n",
       "      <td id=\"T_69846_row1_col0\" class=\"data row1 col0\" >firstname</td>\n",
       "      <td id=\"T_69846_row1_col1\" class=\"data row1 col1\" >str</td>\n",
       "      <td id=\"T_69846_row1_col2\" class=\"data row1 col2\" >False</td>\n",
       "      <td id=\"T_69846_row1_col3\" class=\"data row1 col3\" >False</td>\n",
       "      <td id=\"T_69846_row1_col4\" class=\"data row1 col4\" >False</td>\n",
       "      <td id=\"T_69846_row1_col5\" class=\"data row1 col5\" >None</td>\n",
       "    </tr>\n",
       "    <tr>\n",
       "      <th id=\"T_69846_level0_row2\" class=\"row_heading level0 row2\" >2</th>\n",
       "      <td id=\"T_69846_row2_col0\" class=\"data row2 col0\" >lastname</td>\n",
       "      <td id=\"T_69846_row2_col1\" class=\"data row2 col1\" >str</td>\n",
       "      <td id=\"T_69846_row2_col2\" class=\"data row2 col2\" >False</td>\n",
       "      <td id=\"T_69846_row2_col3\" class=\"data row2 col3\" >False</td>\n",
       "      <td id=\"T_69846_row2_col4\" class=\"data row2 col4\" >False</td>\n",
       "      <td id=\"T_69846_row2_col5\" class=\"data row2 col5\" >None</td>\n",
       "    </tr>\n",
       "    <tr>\n",
       "      <th id=\"T_69846_level0_row3\" class=\"row_heading level0 row3\" >3</th>\n",
       "      <td id=\"T_69846_row3_col0\" class=\"data row3 col0\" >age</td>\n",
       "      <td id=\"T_69846_row3_col1\" class=\"data row3 col1\" >int</td>\n",
       "      <td id=\"T_69846_row3_col2\" class=\"data row3 col2\" >False</td>\n",
       "      <td id=\"T_69846_row3_col3\" class=\"data row3 col3\" >False</td>\n",
       "      <td id=\"T_69846_row3_col4\" class=\"data row3 col4\" >False</td>\n",
       "      <td id=\"T_69846_row3_col5\" class=\"data row3 col5\" >None</td>\n",
       "    </tr>\n",
       "    <tr>\n",
       "      <th id=\"T_69846_level0_row4\" class=\"row_heading level0 row4\" >4</th>\n",
       "      <td id=\"T_69846_row4_col0\" class=\"data row4 col0\" >cat_owner</td>\n",
       "      <td id=\"T_69846_row4_col1\" class=\"data row4 col1\" >bool</td>\n",
       "      <td id=\"T_69846_row4_col2\" class=\"data row4 col2\" >False</td>\n",
       "      <td id=\"T_69846_row4_col3\" class=\"data row4 col3\" >False</td>\n",
       "      <td id=\"T_69846_row4_col4\" class=\"data row4 col4\" >False</td>\n",
       "      <td id=\"T_69846_row4_col5\" class=\"data row4 col5\" >None</td>\n",
       "    </tr>\n",
       "    <tr>\n",
       "      <th id=\"T_69846_level0_row5\" class=\"row_heading level0 row5\" >5</th>\n",
       "      <td id=\"T_69846_row5_col0\" class=\"data row5 col0\" >cat_names</td>\n",
       "      <td id=\"T_69846_row5_col1\" class=\"data row5 col1\" >str</td>\n",
       "      <td id=\"T_69846_row5_col2\" class=\"data row5 col2\" >True</td>\n",
       "      <td id=\"T_69846_row5_col3\" class=\"data row5 col3\" >True</td>\n",
       "      <td id=\"T_69846_row5_col4\" class=\"data row5 col4\" >True</td>\n",
       "      <td id=\"T_69846_row5_col5\" class=\"data row5 col5\" >None</td>\n",
       "    </tr>\n",
       "  </tbody>\n",
       "</table>\n"
      ],
      "text/plain": [
       "<pandas.io.formats.style.Styler at 0x127c1e8d0>"
      ]
     },
     "execution_count": 4,
     "metadata": {},
     "output_type": "execute_result"
    }
   ],
   "source": [
    "schema_1.info()"
   ]
  },
  {
   "cell_type": "markdown",
   "metadata": {},
   "source": [
    "# Fixer\n",
    "\n",
    "After creating a Schema, it can be used to create a `Fixer`."
   ]
  },
  {
   "cell_type": "code",
   "execution_count": 5,
   "metadata": {},
   "outputs": [],
   "source": [
    "fixer_1 = Fixer.new(schema_1)"
   ]
  },
  {
   "cell_type": "markdown",
   "metadata": {},
   "source": [
    "A file can be processed one at a time by passing in the filepath to the fixer. This will create a `Parsed` object where the processed, valid rows can be exported into a CSV file, and invalid rows can be viewed.\n",
    "\n",
    "Primarily, invalid rows may occur if there are multiple ways of parsing the row to fit the schema, or there is no valid parsing. This may be a result of a weak, non-restrictive schema. To fix this, the schema should contain further restrictive elements such as RegEx formatting.\n",
    "\n",
    "If enabled in `fix_file`, invalid rows can also print out their possible tokenisations for fixing."
   ]
  },
  {
   "cell_type": "markdown",
   "metadata": {},
   "source": [
    "## Example 1\n",
    "\n",
    "The `example_1.csv` file only has one column with commas, so there should not be any invalid rows aside from rows which are missing values."
   ]
  },
  {
   "cell_type": "code",
   "execution_count": 6,
   "metadata": {},
   "outputs": [
    {
     "name": "stderr",
     "output_type": "stream",
     "text": [
      "No paths found at line index 8.\n",
      "No paths found\n"
     ]
    },
    {
     "name": "stdout",
     "output_type": "stream",
     "text": [
      "File has been processed!\n",
      "Number of total entries: 9            \n",
      " Number of invalid entries: 1\n"
     ]
    }
   ],
   "source": [
    "parsed_example_1 = fixer_1.fix_file(filepath=\"../examples/example_1.csv\", skip_first_line=True, show_possible_parses=True)"
   ]
  },
  {
   "cell_type": "code",
   "execution_count": 7,
   "metadata": {},
   "outputs": [
    {
     "name": "stdout",
     "output_type": "stream",
     "text": [
      "Index\tLine entry\n",
      "8\t8,Pujan,,Sir,32,True,,,\n"
     ]
    }
   ],
   "source": [
    "parsed_example_1.print_all_invalid_entries()"
   ]
  },
  {
   "cell_type": "markdown",
   "metadata": {},
   "source": [
    "The above line only creates an error since it is missing a value for the \"lastname\" column, which must not be null."
   ]
  },
  {
   "cell_type": "markdown",
   "metadata": {},
   "source": [
    "## Example 2\n",
    "\n",
    "However, if there are multiple columns allowing commas consecutively, the fixer will be unable to parse rows as efficiently compared to other schemas, i.e. schemas where columns with commas are separated by a different type, such as numeric types.\n",
    "\n",
    "An example is shown below."
   ]
  },
  {
   "cell_type": "code",
   "execution_count": 8,
   "metadata": {},
   "outputs": [
    {
     "name": "stderr",
     "output_type": "stream",
     "text": [
      "Multiple paths found at line index 0 - needs to be resolved.\n",
      "Multiple paths found at line index 1 - needs to be resolved.\n"
     ]
    },
    {
     "name": "stdout",
     "output_type": "stream",
     "text": [
      "['1', 'chanom', 'chayen,orange,orange']\n",
      "['1', 'chanom,chayen', 'orange,orange']\n",
      "['1', 'chanom,chayen,orange', 'orange']\n",
      "['2', 'chayen', 'olieang,orange,black']\n",
      "['2', 'chayen,olieang', 'orange,black']\n",
      "['2', 'chayen,olieang,orange', 'black']\n",
      "File has been processed!\n",
      "Number of total entries: 4            \n",
      " Number of invalid entries: 2\n"
     ]
    }
   ],
   "source": [
    "schema_2 = Schema.new(columns=[\n",
    "    Column.numeric(\"id\"),\n",
    "    Column.string(\"cat_names\", is_nullable=False,has_commas=True,has_spaces=True),\n",
    "    Column.string(\"cat_colours\", is_nullable=False,has_commas=True,has_spaces=False)\n",
    "])\n",
    "\n",
    "fixer_2 = Fixer.new(schema_2)\n",
    "\n",
    "parsed_example_2 = fixer_2.fix_file(\"../examples/example_2.csv\", skip_first_line=False, show_possible_parses=True)"
   ]
  },
  {
   "cell_type": "code",
   "execution_count": 9,
   "metadata": {},
   "outputs": [
    {
     "name": "stdout",
     "output_type": "stream",
     "text": [
      "Index\tLine entry\n",
      "0\t1,chanom,chayen,orange,orange\n",
      "1\t2,chayen,olieang,orange,black\n"
     ]
    }
   ],
   "source": [
    "parsed_example_2.print_all_invalid_entries()"
   ]
  },
  {
   "cell_type": "markdown",
   "metadata": {},
   "source": [
    "We can see that for lines with multiple commas, the processing fails as it is unable to tell apart which tokens should be placed in which column. However, with `show_possible_parses` enabled, we can see the exact line and its possible parses."
   ]
  },
  {
   "cell_type": "code",
   "execution_count": 10,
   "metadata": {},
   "outputs": [],
   "source": [
    "parsed_example_2.export_to_csv_best_effort(\"../examples/example_2_parsed.csv\")"
   ]
  },
  {
   "cell_type": "code",
   "execution_count": 11,
   "metadata": {},
   "outputs": [
    {
     "name": "stdout",
     "output_type": "stream",
     "text": [
      "id,cat_names,cat_colours\n",
      "3,muffin,orange\n",
      "4,chanom,orange\n"
     ]
    }
   ],
   "source": [
    "! cat ../examples/example_2_parsed.csv"
   ]
  },
  {
   "cell_type": "markdown",
   "metadata": {},
   "source": [
    "Exporting the parsed dataset will only result in valid rows being exported."
   ]
  },
  {
   "cell_type": "markdown",
   "metadata": {},
   "source": [
    "## Example 3"
   ]
  },
  {
   "cell_type": "code",
   "execution_count": 12,
   "metadata": {},
   "outputs": [
    {
     "name": "stdout",
     "output_type": "stream",
     "text": [
      "File has been processed!\n",
      "Number of total entries: 9            \n",
      " Number of invalid entries: 0\n"
     ]
    }
   ],
   "source": [
    "schema_3 = Schema.new(columns=[\n",
    "    Column.numeric(\"id\"),\n",
    "    Column.string(\"username\",is_nullable=False,has_commas=False,has_spaces=False),\n",
    "    Column.numeric(\"number_of_platforms\"),\n",
    "    Column.string(\"platforms\",is_nullable=True,has_commas=True,has_spaces=False),\n",
    "    Column.numeric(\"number_of_cats\"),\n",
    "    Column.string(\"cat_names\",is_nullable=True,has_commas=True,has_spaces=True)\n",
    "])\n",
    "\n",
    "fixer_3 = Fixer.new(schema_3)\n",
    "\n",
    "parsed_example_3 = fixer_3.fix_file(\"../examples/example_3.csv\", skip_first_line=True, show_possible_parses=True)"
   ]
  },
  {
   "cell_type": "code",
   "execution_count": 13,
   "metadata": {},
   "outputs": [],
   "source": [
    "parsed_example_3.export_to_csv_best_effort(\"../examples/example_3_parsed.csv\")"
   ]
  },
  {
   "cell_type": "code",
   "execution_count": 14,
   "metadata": {},
   "outputs": [
    {
     "name": "stdout",
     "output_type": "stream",
     "text": [
      "id,username,number_of_platforms,platforms,number_of_cats,cat_names\n",
      "1,john_appleseed,2,\"facebook,instagram\",1,Apple\n",
      "2,john_wick,0,,0,\n",
      "3,bob,1,instagram,2,\"fluffy,fluffy sr.\"\n",
      "4,jlaw,1,instagram,1,snowy\n",
      "5,tay_fast,2,\"instagram,youtube\",3,\"grey,benson,button\"\n",
      "6,tommyj,0,,1,mimi\n",
      "7,jakeyh,2,\"twitter,instagram\",2,\"mob,Psycho\"\n",
      "8,pujanf,0,,2,\n"
     ]
    }
   ],
   "source": [
    "! cat ../examples/example_3_parsed.csv"
   ]
  },
  {
   "cell_type": "markdown",
   "metadata": {},
   "source": [
    "Since there is a clear divider between the two comma columns, valid parsings can be produced and exported. "
   ]
  },
  {
   "cell_type": "markdown",
   "metadata": {},
   "source": [
    "## Example 4\n",
    "\n",
    "If the values of a column with commas is known, i.e. the values came from a multiple choice question on a form, they can be specified to help identify whether a value can be placed within a column."
   ]
  },
  {
   "cell_type": "code",
   "execution_count": 15,
   "metadata": {},
   "outputs": [
    {
     "name": "stdout",
     "output_type": "stream",
     "text": [
      "File has been processed!\n",
      "Number of total entries: 6            \n",
      " Number of invalid entries: 0\n",
      "Index\tLine entry\n"
     ]
    }
   ],
   "source": [
    "schema_4 = Schema.new(columns=[\n",
    "    Column.string(\"favourite_cat_colours\", is_nullable=False,has_commas=True,has_spaces=False, format=r\"^(orange|black|tabby|white|calico)\"),\n",
    "    Column.string(\"favourite_colour_reason\", is_nullable=False,has_commas=True,has_spaces=True, format=r\"^(?!orange|black|tabby|white|calico)\")\n",
    "])\n",
    "\n",
    "fixer_4 = Fixer.new(schema_4)\n",
    "\n",
    "parsed_example_4 = fixer_4.fix_file(\"../examples/example_4.csv\", skip_first_line=True, show_possible_parses=True)\n",
    "parsed_example_4.print_all_invalid_entries()"
   ]
  },
  {
   "cell_type": "code",
   "execution_count": 16,
   "metadata": {},
   "outputs": [],
   "source": [
    "parsed_example_4.export_to_csv_best_effort(filepath=\"../examples/example_4_parsed.csv\")"
   ]
  },
  {
   "cell_type": "code",
   "execution_count": 17,
   "metadata": {},
   "outputs": [
    {
     "name": "stdout",
     "output_type": "stream",
     "text": [
      "favourite_cat_colours,cat_colours\n",
      "\"orange,calico\",\"because orange cats are very silly,and calicos are very pretty\"\n",
      "black,because black cats are very sweet despite superstition\n",
      "white,my cat is white so i like white cats (my cat)\n",
      "\"orange,tabby\",I like tabby cats because they look like striped fish.\n",
      "\"orange,calico,black,white,tabby\",\"I like all cat colours,why discriminate?\"\n"
     ]
    }
   ],
   "source": [
    "! cat ../examples/example_4_parsed.csv"
   ]
  },
  {
   "cell_type": "markdown",
   "metadata": {},
   "source": [
    "By specifying the RegEx formatting of tokens that are expected in each column, it can help with parsing tokens into their respective columns. \n",
    "\n",
    "However, this can only be done for columns where their expected values are known. For text columns, this may not be as effective.\n",
    "\n",
    "As seen in the example above, the last column is a text column and its contents can be random. In this case, we can try to differentiate from the previous column since we know the previous column's values and exclude all tokens which begin with items from the previous column."
   ]
  }
 ],
 "metadata": {
  "kernelspec": {
   "display_name": "base",
   "language": "python",
   "name": "python3"
  },
  "language_info": {
   "codemirror_mode": {
    "name": "ipython",
    "version": 3
   },
   "file_extension": ".py",
   "mimetype": "text/x-python",
   "name": "python",
   "nbconvert_exporter": "python",
   "pygments_lexer": "ipython3",
   "version": "3.12.2"
  }
 },
 "nbformat": 4,
 "nbformat_minor": 2
}
